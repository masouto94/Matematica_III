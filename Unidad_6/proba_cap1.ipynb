{
 "cells": [
  {
   "cell_type": "markdown",
   "id": "5265deaa",
   "metadata": {},
   "source": [
    "# Probabilidad"
   ]
  },
  {
   "cell_type": "markdown",
   "id": "0828d69e",
   "metadata": {},
   "source": [
    "## Eventos aleatorios"
   ]
  },
  {
   "cell_type": "markdown",
   "id": "84368af3",
   "metadata": {},
   "source": [
    "La teoría de las probabilidades es el conjunto de leyes que explican los fenómenos aleatorios: eventos aleatorios, variables aleatorias, sus funciones, propiedades y operaciones sobre ellos."
   ]
  },
  {
   "cell_type": "markdown",
   "id": "90b30b23",
   "metadata": {},
   "source": [
    "### Conceptos básicos"
   ]
  },
  {
   "cell_type": "markdown",
   "id": "9f76caab",
   "metadata": {},
   "source": [
    "Un experimento aleatorio es un experimento cuyos posibles resultados son conocidos, pero no se puede establecer de antemano cuál de los posibles valores toma al ser ejecutado. Por ejemplo, el lanzamiento de una moneda. Sabemos que puede salir ’cara’ o ’ceca’ pero no sabemos si caerá de cara o ceca. Otros ejemplos de experimentos aleatorios pueden ser: el lanzamiento de un dado; la extracción de una carta; la selección de un objeto entre otros."
   ]
  },
  {
   "cell_type": "markdown",
   "id": "b4011f80",
   "metadata": {},
   "source": [
    "Al conjunto de los posibles resultados de un experimento aleatorio se le denomina espacio muestral. Por lo general, al espacio muestral se lo denota con la letra griega omega **$\\Omega$**."
   ]
  },
  {
   "cell_type": "markdown",
   "id": "e0b89c01",
   "metadata": {},
   "source": [
    "Si se trata del lanzamiento de una moneda el espacio muestral es: **$\\Omega$** = {cara, ceca}"
   ]
  },
  {
   "cell_type": "markdown",
   "id": "4e77d00b",
   "metadata": {},
   "source": [
    "La cardinalidad de un conjunto es el número de elementos de un conjunto. En el ejemplo anterior la cardinalidad del espacio muestral es **N**($\\Omega$) = 2"
   ]
  },
  {
   "cell_type": "markdown",
   "id": "44c0c281",
   "metadata": {},
   "source": [
    "Un evento aleatorio es un subconjunto del espacio muestral que obedece a determinadas condiciones. En el lanzamiento de una moneda un ejemplo de evento podría ser que la moneda caiga de cara.\n",
    "\n",
    "<p style=\"text-align:center;\">E = {la moneda cae de cara}</p>\n",
    "\n",
    "Obviamente este subconjunto tiene un solo elemento:\n",
    "\n",
    "<p style=\"text-align:center;\">E = {cara}</p>\n",
    "\n",
    "Y su cardinalidad es: \n",
    "\n",
    "$$N(E) = 1$$"
   ]
  },
  {
   "cell_type": "markdown",
   "id": "7a48b223",
   "metadata": {},
   "source": [
    "La cardinalidad de un evento siempre es menor o igual\n",
    "a la cardinalidad del espacio muestral\n",
    "$$\n",
    "N(E) \\leq N(\\Omega)\n",
    "$$"
   ]
  },
  {
   "cell_type": "markdown",
   "id": "cba99a64",
   "metadata": {},
   "source": [
    "La probabilidad de un evento es una medida de certidumbre\n",
    "de que ocurra el evento y se determina por el\n",
    "cociente entre las cardinalidades del evento y el espacio\n",
    "muestral:\n",
    "$$ p(E) = \\frac{N(E)}{N(\\Omega)} $$"
   ]
  },
  {
   "cell_type": "markdown",
   "id": "a6869413",
   "metadata": {},
   "source": [
    "De esta definición se deduce que la probabilidad de un\n",
    "evento es un número entre 0 y 1. Si el evento siempre\n",
    "ocurre la probabilidad es 1 mientras que si el evento nunca\n",
    "ocurre la probabilidad es 0."
   ]
  },
  {
   "cell_type": "markdown",
   "id": "10f9840f",
   "metadata": {},
   "source": [
    "**Ejemplo.** Un experimento aleatorio consiste en lanzar\n",
    "sucesivamente dos veces una moneda y registrar la salida\n",
    "en ambas ocasiones, determine por enumeración el espacio\n",
    "muestral, y la probabilidad de que la moneda caiga las dos\n",
    "veces de cara."
   ]
  },
  {
   "cell_type": "markdown",
   "id": "5f240834",
   "metadata": {},
   "source": [
    "**Resolución**: Como la moneda se lanza dos veces los registros de la\n",
    "salida del experimento son duplas, por ejemplo, ’cara-cara’.\n",
    "Por lo tanto el espacio muestral es:\n",
    "$$\\Omega = \\{cara−cara, cara−ceca, ceca−cara, ceca−ceca \\}$$"
   ]
  },
  {
   "cell_type": "markdown",
   "id": "f9deddce",
   "metadata": {},
   "source": [
    "El evento E está definido por:\n",
    "$$E = \\{cara−cara\\}$$"
   ]
  },
  {
   "cell_type": "markdown",
   "id": "64739952",
   "metadata": {},
   "source": [
    "y su probabilidad es entonces:\n",
    "$$ p(E) = \\frac{N(E)}{N(\\Omega)} = \\frac{1}{4} = 0.25 $$"
   ]
  },
  {
   "cell_type": "markdown",
   "id": "2b810812",
   "metadata": {},
   "source": [
    "**Algoritmo** Enumeración de conjuntos mediante ciclos *for*"
   ]
  },
  {
   "cell_type": "code",
   "execution_count": 1,
   "id": "562c32b4",
   "metadata": {},
   "outputs": [
    {
     "name": "stdout",
     "output_type": "stream",
     "text": [
      "{('cara', 'cara'), ('ceca', 'cara'), ('cara', 'ceca'), ('ceca', 'ceca')}\n"
     ]
    }
   ],
   "source": [
    "posibles = {'cara', 'ceca'}\n",
    "esp_muestral = set()\n",
    "for tiro1 in posibles:\n",
    "    for tiro2 in posibles:\n",
    "        salida = (tiro1, tiro2)\n",
    "        esp_muestral.add(salida)\n",
    "print(esp_muestral)"
   ]
  },
  {
   "cell_type": "markdown",
   "id": "4efc8615",
   "metadata": {},
   "source": [
    "Si se quisiera lanzar la moneda tres veces o más veces\n",
    "se podría usar más ciclos *for*. Sin embargo, no sería muy eficiente. Una forma más conveniente\n",
    "es usar el módulo *itertools*."
   ]
  },
  {
   "cell_type": "code",
   "execution_count": null,
   "id": "650d7da6",
   "metadata": {},
   "outputs": [],
   "source": [
    "from itertools import product\n",
    "posibles = {'cara', 'ceca'}\n",
    "esp_muestral = set(product(posibles, repeat=3))\n",
    "print(esp_muestral)"
   ]
  },
  {
   "cell_type": "markdown",
   "id": "c9f38e15",
   "metadata": {},
   "source": [
    "**product** - función que implementa el producto cartesiano (el producto cartesiano es el conjunto de todos los pares ordenados que se\n",
    "pueden formar a partir de dos conjuntos);\n",
    "\n",
    "\n",
    "**repeat** = n - establece las veces que se ejecuta ’product’"
   ]
  },
  {
   "cell_type": "markdown",
   "id": "65a59e39",
   "metadata": {},
   "source": [
    "Los elementos que integran a un evento son aquellos\n",
    "elementos del espacio muestral que satisfacen una condición\n",
    "C determinada, que en notación formal se escribe\n",
    "$$ E = \\{\\forall x \\in \\Omega / x \\;satisface \\;C\\}$$"
   ]
  },
  {
   "cell_type": "markdown",
   "id": "dd486f31",
   "metadata": {},
   "source": [
    "Por ejemplo, en el lanzamiento de un dado podría ser de\n",
    "interés que el puntaje de salida sea menor que 4. Entonces\n",
    "la expresión formal o definición por comprensión de este\n",
    "evento es:\n",
    "$$ E = \\{\\forall x \\in \\Omega / x < 4\\}$$"
   ]
  },
  {
   "cell_type": "markdown",
   "id": "d7ce37f9",
   "metadata": {},
   "source": [
    "**Ejemplo** Escriba un código en Python para enumerar\n",
    "el evento E = {puntaje menor que 4} a partir de su descripción\n",
    "formal en el lanzamiento de un dado."
   ]
  },
  {
   "cell_type": "markdown",
   "id": "9d5c747d",
   "metadata": {},
   "source": [
    "**Algoritmo**"
   ]
  },
  {
   "cell_type": "code",
   "execution_count": null,
   "id": "d433b809",
   "metadata": {},
   "outputs": [],
   "source": [
    "esp_muestral = set(range(1,7))\n",
    "E = set([x for x in esp_muestral if x < 4])\n",
    "print(f'E = {E}\\n')"
   ]
  },
  {
   "cell_type": "markdown",
   "id": "5ab5f1e3",
   "metadata": {},
   "source": [
    "**Ejemplo**. Escriba un programa que calcule la probabilidad\n",
    "de que el producto de los puntos de tres lanzamientos\n",
    "de los dados sea menor que 50."
   ]
  },
  {
   "cell_type": "markdown",
   "id": "cf978173",
   "metadata": {},
   "source": [
    "**Algoritmo**"
   ]
  },
  {
   "cell_type": "code",
   "execution_count": 1,
   "id": "7dbe608d",
   "metadata": {},
   "outputs": [
    {
     "name": "stdout",
     "output_type": "stream",
     "text": [
      "La probabilidad de que ocurra E es 0.6944\n"
     ]
    }
   ],
   "source": [
    "import numpy as np\n",
    "from itertools import product\n",
    "posibles = list(range(1,7))\n",
    "esp_muestral = set(product(posibles, repeat=3))\n",
    "E = set([x for x in esp_muestral if np.prod(x) < 50])\n",
    "p = len(E)/len(esp_muestral)\n",
    "print(f'La probabilidad de que ocurra E es {p:.4}')"
   ]
  },
  {
   "cell_type": "markdown",
   "id": "c419104d",
   "metadata": {},
   "source": [
    "**Ejercicio 1.**\n",
    "Escriba un código en Python para determinar\n",
    "los elementos de un evento si debe cumplir la condición\n",
    "que la suma de los puntos en dos lanzamientos de un dado sea mayor que 7."
   ]
  },
  {
   "cell_type": "markdown",
   "id": "0ab790d7",
   "metadata": {},
   "source": [
    "**Ejercicio 2.** Determine los elementos de un evento si\n",
    "debe cumplir la condición que la suma de los puntos en\n",
    "dos tiros sea múltiplo de 3."
   ]
  },
  {
   "cell_type": "markdown",
   "id": "ec6a6d6f",
   "metadata": {},
   "source": [
    "### Definiciones de probabilidad"
   ]
  },
  {
   "cell_type": "markdown",
   "id": "f9748101",
   "metadata": {},
   "source": [
    "#### Probabilidad clásica"
   ]
  },
  {
   "cell_type": "markdown",
   "id": "494344be",
   "metadata": {},
   "source": [
    "La probabilidad de que un evento ocurra es igual a la\n",
    "razón entre el número de casos favorables al evento y el\n",
    "número total de los casos posibles.\n",
    "\n",
    "Las siguientes propiedades de la probabilidad se derivan\n",
    "de su definición:\n",
    "* la probabilidad de un evento cierto es igual a uno;\n",
    "* la probabilidad de un evento imposible es cero;\n",
    "* la probabilidad de un evento aleatorio es un número positivo entre cero y uno;\n",
    "* la probabilidad de que ocurran eventos que formen un grupo completo (por lo menos ocurre uno de los eventos cuando se realiza un experimento) es igual a uno."
   ]
  },
  {
   "cell_type": "markdown",
   "id": "f3a80dad",
   "metadata": {},
   "source": [
    "#### Probabilidad geométrica"
   ]
  },
  {
   "cell_type": "markdown",
   "id": "549a7047",
   "metadata": {},
   "source": [
    "Es la probabilidad de que un punto golpee una región determinada,\n",
    "como en el lanzamiento de un dardo.\n",
    "\n",
    "La probabilidad geométrica se calcula de la siguiente\n",
    "manera:\n",
    "$$ p(E) = \\frac{S(f)}{S(F)} $$\n",
    "Donde S(f) es el área a acertar y S(F) el área de la\n",
    "región total."
   ]
  },
  {
   "cell_type": "markdown",
   "id": "e9ae6566",
   "metadata": {},
   "source": [
    "#### Probabilidad subjetiva"
   ]
  },
  {
   "cell_type": "markdown",
   "id": "2161811d",
   "metadata": {},
   "source": [
    "La probabilidad subjetiva es el grado de creencia personal\n",
    "de que ocurra algún evento. El concepto de probabilidad\n",
    "subjetiva se aplica en la teoría de toma de decisión."
   ]
  },
  {
   "cell_type": "markdown",
   "id": "61e37cd9",
   "metadata": {},
   "source": [
    "#### Probabilidad frecuencial"
   ]
  },
  {
   "cell_type": "markdown",
   "id": "fbf9fc4d",
   "metadata": {},
   "source": [
    "La probabilidad frecuencial, frecuentista o empírica es la\n",
    "probabilidad de que un evento ocurra en un número grande de ensayos. Se calcula como el cociente entre el número de\n",
    "ocurrencias de un evento, y el número total de ensayos en un experimento real.\n",
    "$$ p(E) = \\lim\\limits_{N\\to\\infty} \\frac{n_{e}}{N} $$"
   ]
  },
  {
   "cell_type": "markdown",
   "id": "1b1692d9",
   "metadata": {},
   "source": [
    "### Técnicas de conteo"
   ]
  },
  {
   "cell_type": "markdown",
   "id": "e934de88",
   "metadata": {},
   "source": [
    "El cálculo de la probabilidad de que ocurra un evento es\n",
    "en esencia un conteo. En los casos hasta ahora vistos estas\n",
    "cuentas no eran muy complejas y se podía enumerar\n",
    "tanto el espacio muestral como los eventos. Sin embargo,\n",
    "en la mayoría de casos reales enumerar los eventos resulta\n",
    "muy complejo. Las técnicas de conteo son un conjunto de\n",
    "métodos que permiten contar el número posible de ordenamientos\n",
    "de los elementos de un conjunto y se basan en\n",
    "dos principios: la multiplicación y la adición."
   ]
  },
  {
   "cell_type": "markdown",
   "id": "80ce48a5",
   "metadata": {},
   "source": [
    "#### El principio multiplicativo"
   ]
  },
  {
   "cell_type": "markdown",
   "id": "7bc88e9a",
   "metadata": {},
   "source": [
    "Si una actividad involucra varios pasos, donde el primer\n",
    "paso se puede realizar de $N_1$ formas, el segundo paso de\n",
    "$N_2$ y el *\"r\"-ésimo* paso de $N_r$ formas entonces la actividad\n",
    "se puede realizar de $N$ maneras:\n",
    "$$ N = N_1 \\times N_2 \\times \\:...\\: \\times N_r$$"
   ]
  },
  {
   "cell_type": "markdown",
   "id": "639a2d45",
   "metadata": {},
   "source": [
    "**Ejemplo**. Determine el número de formas en las que nos podemos vestir si disponemos de dos pares de zapatos, dos pantalones y tres camisas.\n",
    "\n",
    "**Resolución** El número de formas se puede calcular mediante la\n",
    "regla de la multiplicación\n",
    "$$ N = 2 \\times 2 \\times 3 = 12$$\n",
    "Nos podemos vestir de 12 maneras diferentes."
   ]
  },
  {
   "cell_type": "markdown",
   "id": "8bf3fe40",
   "metadata": {},
   "source": [
    "**Algoritmo**"
   ]
  },
  {
   "cell_type": "code",
   "execution_count": null,
   "id": "5e64a1ce",
   "metadata": {},
   "outputs": [],
   "source": [
    "from itertools import product\n",
    "camisas = {'c1', 'c2', 'c3'}\n",
    "pantalones = {'p1', 'p2'}\n",
    "zapatos = {'z1', 'z2'}\n",
    "esp_muestral = set(product(camisas, pantalones, zapatos))\n",
    "for comb in esp_muestral:\n",
    "    print(comb)"
   ]
  },
  {
   "cell_type": "markdown",
   "id": "757d48b7",
   "metadata": {},
   "source": [
    "#### El principio aditivo"
   ]
  },
  {
   "cell_type": "markdown",
   "id": "c6e80d77",
   "metadata": {},
   "source": [
    "Si existen varias alternativas $A_i$ de elegir un objeto y en\n",
    "cada una de estas hay a su vez $N (A_i)$ opciones el número\n",
    "total de formas de elegir el objeto es la suma del número\n",
    "de posibilidades de cada alternativa.\n",
    "$$ N = \\displaystyle\\sum_{i=1}^k N(A_i)$$"
   ]
  },
  {
   "cell_type": "markdown",
   "id": "26a79258",
   "metadata": {},
   "source": [
    "**Ejemplo.** Determine el número de formas en las que\n",
    "se puede comprar una computadora. Existen tres marcas\n",
    "disponibles en el mercado. La primera marca ofrece\n",
    "computadoras de 14\" con disco duro o disco sólido. La\n",
    "segunda marca ofrece computadoras de 11\", 14\" y 16\" con\n",
    "y sin pantalla táctil y la tercera marca ofrece todas las\n",
    "variantes mencionadas.\n",
    "\n",
    "**Resolución.** El número de formas posibles en la compra de la computadora\n",
    "de la primera marca se puede calcular mediante\n",
    "la regla de la multiplicación\n",
    "$$ N(A_1) = 1 \\times 2 = 2$$\n",
    "Si se compra la segunda marca\n",
    "$$ N(A_2) = 3 \\times 2 = 6$$\n",
    "Y si se compra la tercera marca\n",
    "$$ N(A_3) = 3 \\times 2 \\times 2 = 12$$\n",
    "El número total de alternativas es\n",
    "$$ N = 2 + 6 + 12 = 20 $$"
   ]
  },
  {
   "cell_type": "markdown",
   "id": "ab06e069",
   "metadata": {},
   "source": [
    "### Combinaciones y permutaciones"
   ]
  },
  {
   "cell_type": "markdown",
   "id": "87780b81",
   "metadata": {},
   "source": [
    "En muchos casos es necesario reordenar aleatoriamente los\n",
    "elementos de un conjunto, como el caso del barajado de\n",
    "cartas antes de un juego de azar. Supongamos que se debe\n",
    "reordenar solo tres cartas de corazones no ’barajadas’ *{J, Q, K}*\n",
    "\n",
    "Ordenar estas cartas es como colocarlas en tres casillas\n",
    "vacías. Para llenar la primera casilla se tiene tres alternativas.\n",
    "Para llenar la segunda casilla se tiene 2 alternativas,\n",
    "en vista de que ya se usó una carta. Finalmente para la última\n",
    "casilla solmente se tiene una alternativa. De acuerdo\n",
    "al principio de multiplicación el número total de alternativas\n",
    "es:\n",
    "$$ N = 3 \\times 2 \\times 1 = 6 $$"
   ]
  },
  {
   "cell_type": "markdown",
   "id": "f5ae506b",
   "metadata": {},
   "source": [
    "En términos generales la expresión anterior se puede\n",
    "escribir como el factorial de un número\n",
    "$$n! = n \\times (n-1) \\times (n-2) \\times ... \\times 2 \\times 1 \\times 0!$$"
   ]
  },
  {
   "cell_type": "markdown",
   "id": "9ba2a917",
   "metadata": {},
   "source": [
    "**Algoritmo** Para barajar tres cartas de corazones {J, Q, K}"
   ]
  },
  {
   "cell_type": "code",
   "execution_count": 2,
   "id": "fb6530e7",
   "metadata": {},
   "outputs": [
    {
     "name": "stdout",
     "output_type": "stream",
     "text": [
      "('J', 'Q', 'K')\n",
      "('J', 'K', 'Q')\n",
      "('Q', 'J', 'K')\n",
      "('Q', 'K', 'J')\n",
      "('K', 'J', 'Q')\n",
      "('K', 'Q', 'J')\n"
     ]
    }
   ],
   "source": [
    "import itertools as it\n",
    "elementos = ['J', 'Q', 'K']\n",
    "for permutacion in list(it.permutations(elementos)):\n",
    "    print(permutacion)"
   ]
  },
  {
   "cell_type": "markdown",
   "id": "4194be04",
   "metadata": {},
   "source": [
    "**permutations()** forma los ordenamientos posibles, sin elementos repetidos."
   ]
  },
  {
   "cell_type": "markdown",
   "id": "5ac12b6a",
   "metadata": {},
   "source": [
    "Una permutación es un arreglo ordenado de elementos\n",
    "tomados de un conjunto. El número posible de permutaciones\n",
    "de $r$ elementos tomados de un conjunto de $n$ elementos\n",
    "se halla mediante la expresión matemática:\n",
    "$$ P_r^n = \\frac{n!}{(n-r)!}$$"
   ]
  },
  {
   "cell_type": "markdown",
   "id": "3653ce92",
   "metadata": {},
   "source": [
    "Si el número de elementos a ordenar coincide con el\n",
    "número de elementos del conjunto original entonces el número\n",
    "de permutaciones es igual al factorial."
   ]
  },
  {
   "cell_type": "markdown",
   "id": "e6b1aff1",
   "metadata": {},
   "source": [
    "**Ejemplo.** Determine el número posible de permutaciones\n",
    "de 3 elementos tomados de un conjunto de 7 elementos.\n",
    "\n",
    "**Resolución.**\n",
    "$$ P_3^7 = \\frac{7!}{(7-3)!} = \\frac{7 \\times 6 \\times 5 \\times 4!}{4!} = 210 $$\n"
   ]
  },
  {
   "cell_type": "markdown",
   "id": "4c17c91e",
   "metadata": {},
   "source": [
    "**Ejercicio 3.** Determine el número posible de códigos de seguridad de 4 dígitos que se pueden formar con los dígitos del 0 al 9 sin que se repitan."
   ]
  },
  {
   "cell_type": "markdown",
   "id": "1fb5f8e7",
   "metadata": {},
   "source": [
    "Las permutaciones son arreglos ordenados. Ahora veámos\n",
    "el caso de que el arreglo no sea ordenado. Llenemos\n",
    "una bolsa opaca con tres letras tomadas del conjunto\n",
    "{A,B,C,D}. ¿De cuántas formas diferentes se puede llenar\n",
    "la bolsa?\n",
    "$$ ABC; ABD; ACD; BCD $$"
   ]
  },
  {
   "cell_type": "markdown",
   "id": "213d099f",
   "metadata": {},
   "source": [
    "Como el arreglo no es ordenado da lo mismo en que\n",
    "posición vaya una letra. Por lo tanto, todas las formas\n",
    "siguientes son equivalentes: \n",
    "$$ ABC; ACB; BAC; BCA; CBA; CAB$$"
   ]
  },
  {
   "cell_type": "markdown",
   "id": "66c8958c",
   "metadata": {},
   "source": [
    "Cuando en el arreglo no importa el orden se llama combinación.\n",
    "El número de combinaciones posibles de $n$ objetos\n",
    "tomados en grupos de $r$ elementos es:\n",
    "$$ C_r^n = \\frac{n!}{r!(n-r)!}$$"
   ]
  },
  {
   "cell_type": "markdown",
   "id": "0edee34d",
   "metadata": {},
   "source": [
    "**Ejemplo.** La estantería de una biblioteca tiene 23 libros:\n",
    "10 de ciencia ficción y 13 de arte contemporáneo.\n",
    "¿De cuántas maneras se pueden tomar dos libros del mismo\n",
    "género literario?"
   ]
  },
  {
   "cell_type": "markdown",
   "id": "faaa76d1",
   "metadata": {},
   "source": [
    "**Resolución.** Al elegir los libros solamente interesa el género; el orden\n",
    "no es relevante y por lo tanto, el número de alternativas\n",
    "de acuerdo al principio de adición es:\n",
    "$$ N = C_2^{10} + C_2^{13} $$\n",
    "\n",
    "$C_2^{10}$ es el número de alternativas de elegir dos libros de ciencia ficción\n",
    "\n",
    "$C_2^{13}$ es el número de alternativas de elegir dos libros de arte contemporáneo"
   ]
  },
  {
   "cell_type": "markdown",
   "id": "43921187",
   "metadata": {},
   "source": [
    "$$ N = \\frac{10!}{2!(10-2)!} + \\frac{13!}{2!(13-2)!} = 123 $$\n",
    "\n",
    "Son 123 alternativas posibles."
   ]
  },
  {
   "cell_type": "markdown",
   "id": "fb094d44",
   "metadata": {},
   "source": [
    "**Algoritmo.**"
   ]
  },
  {
   "cell_type": "code",
   "execution_count": null,
   "id": "6a2bcefb",
   "metadata": {},
   "outputs": [],
   "source": [
    "from math import comb\n",
    "N = comb(10,2) + comb(13,2)\n",
    "print(N)"
   ]
  },
  {
   "cell_type": "markdown",
   "id": "65c96fe0",
   "metadata": {},
   "source": [
    "**Ejemplo.** Una urna contiene 8 bolas blancas, 4 negras\n",
    "y 7 rojas. Se extraen 3 bolas al azar. Encuentre la\n",
    "probabilidad de sacar al menos 1 bola roja."
   ]
  },
  {
   "cell_type": "markdown",
   "id": "625c37de",
   "metadata": {},
   "source": [
    "**Resolución.** La condición es que se saque al menos una bola roja, entonces las siguientes alternativas son válidas: RXX, RRX, RRR. \n",
    "\n",
    "De acuerdo al principio de adición, el número total de alternativas es:\n",
    "$$ N(E) = N(RXX) + N(RRX) + N(RRR)$$"
   ]
  },
  {
   "cell_type": "markdown",
   "id": "5e7dcd4d",
   "metadata": {},
   "source": [
    "Encontrar el número de alternativas de sacar una bola roja y dos de otro color (RXX) es equivalente a seleccionar una bola roja entre 7 y dos bolas de otro color entre 12. Por principio de la multiplicación se tiene:\n",
    "$$ N(RXX) = C_1^7 \\times C_2^{12}$$\n",
    "$$ N(RXX) = \\frac{7!}{1!(7-1)!} \\times \\frac{12!}{2!(12-2)!} = 462 $$"
   ]
  },
  {
   "cell_type": "markdown",
   "id": "8d66991d",
   "metadata": {},
   "source": [
    "Las otras variante son:\n",
    "$$ N(RRX) = C_2^7 \\times C_1^{12} = 252$$\n",
    "$$ N(RRR) = C_3^7 \\times C_0^{12} = 35$$"
   ]
  },
  {
   "cell_type": "markdown",
   "id": "630943bb",
   "metadata": {},
   "source": [
    "El número total de alternativas es:\n",
    "$$ N(E) = 462 + 252 + 35 = 749 $$"
   ]
  },
  {
   "cell_type": "markdown",
   "id": "57ff1d4d",
   "metadata": {},
   "source": [
    "El número de alternativas de sacar tres bolas de la urna es:\n",
    "$$ N(\\Omega) = C_3^{19} = \\frac{19!}{3!(19-3)!} = 969 $$  "
   ]
  },
  {
   "cell_type": "markdown",
   "id": "f1fa1a76",
   "metadata": {},
   "source": [
    "La probabilidad de sacar al menos una bola roja de la urna es:\n",
    "$$ p(E) = \\frac{N(E)}{N(\\Omega)} = \\frac{749}{969} = 0.7730$$"
   ]
  },
  {
   "cell_type": "markdown",
   "id": "71c15ca1",
   "metadata": {},
   "source": [
    "**Algoritmo.**"
   ]
  },
  {
   "cell_type": "code",
   "execution_count": null,
   "id": "7ea73d59",
   "metadata": {},
   "outputs": [],
   "source": [
    "from math import comb\n",
    "c1 = comb(7,1)*comb(12,2)\n",
    "c2 = comb(7,2)*comb(12,1)\n",
    "c3 = comb(7,3)*comb(12,0)\n",
    "c = c1 + c2 + c3\n",
    "N = comb(19,3)\n",
    "p = c/N\n",
    "print(f'p(E) es {p:.4f}')"
   ]
  },
  {
   "cell_type": "markdown",
   "id": "a7ab1921",
   "metadata": {},
   "source": [
    "### Permutación y combinación con repetición"
   ]
  },
  {
   "cell_type": "markdown",
   "id": "2dcfc5e1",
   "metadata": {},
   "source": [
    "En los ejemplos anteriores se analizó el caso en que los elementos\n",
    "del conjunto a ordenar son distintos. ¿Que pasaría con las permutaciones y combinaciones en el caso de que\n",
    "se repitan los elementos?"
   ]
  },
  {
   "cell_type": "markdown",
   "id": "9694a05e",
   "metadata": {},
   "source": [
    "Si algunos de los objetos son idénticos, la permutación y la\n",
    "combinación se transforman en un problema de selección\n",
    "con repetición. "
   ]
  },
  {
   "cell_type": "markdown",
   "id": "f4735c1b",
   "metadata": {},
   "source": [
    "Si el primer elemento del conjunto a ordenar se repite $n_1$\n",
    "veces, el segundo $n_2$ veces, ... y el último se repite $n_m$ veces\n",
    "entonces el número de permutaciones de los elementos es\n",
    "$$ P^n_{n_1, n_2, ..., n_m} = \\frac{P_n^n}{n_1! \\times n_2! \\times ... \\times n_m!}$$"
   ]
  },
  {
   "cell_type": "markdown",
   "id": "64bfe690",
   "metadata": {},
   "source": [
    "El número total de elementos es:\n",
    "$$ n = \\sum n_i $$"
   ]
  },
  {
   "cell_type": "markdown",
   "id": "68304ef5",
   "metadata": {},
   "source": [
    "Es importante notar que se deben tomar todos los elementos del conjunto original."
   ]
  },
  {
   "cell_type": "markdown",
   "id": "a106b19b",
   "metadata": {},
   "source": [
    "**Ejemplo.** Determine la cantidad de números de 9 cifras\n",
    "que se pueden formar a partir del conjunto A = {2, 2, 2, 3, 3, 3, 3, 4, 4}"
   ]
  },
  {
   "cell_type": "markdown",
   "id": "1fb397ec",
   "metadata": {},
   "source": [
    "**Resolución.** El primer elemento se repite 3 veces; el segundo 4 veces y el tercero 2 veces.\n",
    "\n",
    "El número de permutaciones sin repetición es:\n",
    "$$P^9_{3,4,2} = \\frac{P^9_9}{3! \\times 4! \\times 2!} = \\frac{9!}{3! \\times 4! \\times 2!}= 1260 $$"
   ]
  },
  {
   "cell_type": "markdown",
   "id": "9bc3a463",
   "metadata": {},
   "source": [
    "El número de combinaciones de un conjunto A de n elementos\n",
    "tomados en grupos de k elementos (k < n) cuando\n",
    "se puede repetir los elementos de A, se calcula mediante la\n",
    "expresión:\n",
    "$$ CR^n_k = \\frac{(n+k-1)!}{k!(n-1)!}$$"
   ]
  },
  {
   "cell_type": "markdown",
   "id": "9a75f86b",
   "metadata": {},
   "source": [
    "Dos combinaciones con repetición se consideran idénticas\n",
    "si tienen los mismos elementos repetidos el mismo\n",
    "número de veces, independientemente de su orden."
   ]
  },
  {
   "cell_type": "markdown",
   "id": "b5d092aa",
   "metadata": {},
   "source": [
    "**Ejemplo.** Determine el número de variantes posibles de conos de helado de tres sabores. El heladero dispone de tres sabores de helado: chocolate, limón y vainilla. Los clientes pueden repetir sabores."
   ]
  },
  {
   "cell_type": "markdown",
   "id": "ae296e56",
   "metadata": {},
   "source": [
    "**Resolución.** Este es un problema de combinación con repetición. n= 3 y k = 3\n",
    "$$ CR^3_3 = \\frac{(3+3-1)!}{3!(3-1)!} = 10 $$"
   ]
  },
  {
   "cell_type": "markdown",
   "id": "ce9672d2",
   "metadata": {},
   "source": [
    "**Algoritmo.**"
   ]
  },
  {
   "cell_type": "code",
   "execution_count": null,
   "id": "3930a403",
   "metadata": {},
   "outputs": [],
   "source": [
    "import itertools as it\n",
    "sabores = ['chocolate', 'limon', 'vainilla']\n",
    "for i in it.combinations_with_replacement(sabores, 3):\n",
    "    print(i)"
   ]
  }
 ],
 "metadata": {
  "kernelspec": {
   "display_name": "venv",
   "language": "python",
   "name": "python3"
  },
  "language_info": {
   "codemirror_mode": {
    "name": "ipython",
    "version": 3
   },
   "file_extension": ".py",
   "mimetype": "text/x-python",
   "name": "python",
   "nbconvert_exporter": "python",
   "pygments_lexer": "ipython3",
   "version": "3.10.12"
  }
 },
 "nbformat": 4,
 "nbformat_minor": 5
}
