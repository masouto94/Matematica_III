{
 "cells": [
  {
   "cell_type": "code",
   "execution_count": 2,
   "metadata": {},
   "outputs": [],
   "source": [
    "import numpy as np\n",
    "import pandas as pd\n",
    "data = pd.DataFrame({\n",
    "    \"Nota\":[1,2,3,4,5,6,7,8,9,10],\n",
    "    \"Minutos de estudio por dia\":[10,15,15,12,20,27,38,50,70,65]\n",
    "})\n"
   ]
  },
  {
   "cell_type": "code",
   "execution_count": 3,
   "metadata": {},
   "outputs": [
    {
     "data": {
      "text/html": [
       "<div>\n",
       "<style scoped>\n",
       "    .dataframe tbody tr th:only-of-type {\n",
       "        vertical-align: middle;\n",
       "    }\n",
       "\n",
       "    .dataframe tbody tr th {\n",
       "        vertical-align: top;\n",
       "    }\n",
       "\n",
       "    .dataframe thead th {\n",
       "        text-align: right;\n",
       "    }\n",
       "</style>\n",
       "<table border=\"1\" class=\"dataframe\">\n",
       "  <thead>\n",
       "    <tr style=\"text-align: right;\">\n",
       "      <th></th>\n",
       "      <th>Nota</th>\n",
       "      <th>Minutos de estudio por dia</th>\n",
       "      <th>pred fx</th>\n",
       "      <th>pred gx</th>\n",
       "      <th>costo fx</th>\n",
       "      <th>costo gx</th>\n",
       "    </tr>\n",
       "  </thead>\n",
       "  <tbody>\n",
       "    <tr>\n",
       "      <th>0</th>\n",
       "      <td>1</td>\n",
       "      <td>10</td>\n",
       "      <td>2</td>\n",
       "      <td>7</td>\n",
       "      <td>64</td>\n",
       "      <td>9</td>\n",
       "    </tr>\n",
       "    <tr>\n",
       "      <th>1</th>\n",
       "      <td>2</td>\n",
       "      <td>15</td>\n",
       "      <td>9</td>\n",
       "      <td>13</td>\n",
       "      <td>36</td>\n",
       "      <td>4</td>\n",
       "    </tr>\n",
       "    <tr>\n",
       "      <th>2</th>\n",
       "      <td>3</td>\n",
       "      <td>15</td>\n",
       "      <td>16</td>\n",
       "      <td>19</td>\n",
       "      <td>1</td>\n",
       "      <td>16</td>\n",
       "    </tr>\n",
       "    <tr>\n",
       "      <th>3</th>\n",
       "      <td>4</td>\n",
       "      <td>12</td>\n",
       "      <td>23</td>\n",
       "      <td>25</td>\n",
       "      <td>121</td>\n",
       "      <td>169</td>\n",
       "    </tr>\n",
       "    <tr>\n",
       "      <th>4</th>\n",
       "      <td>5</td>\n",
       "      <td>20</td>\n",
       "      <td>30</td>\n",
       "      <td>31</td>\n",
       "      <td>100</td>\n",
       "      <td>121</td>\n",
       "    </tr>\n",
       "    <tr>\n",
       "      <th>5</th>\n",
       "      <td>6</td>\n",
       "      <td>27</td>\n",
       "      <td>37</td>\n",
       "      <td>37</td>\n",
       "      <td>100</td>\n",
       "      <td>100</td>\n",
       "    </tr>\n",
       "    <tr>\n",
       "      <th>6</th>\n",
       "      <td>7</td>\n",
       "      <td>38</td>\n",
       "      <td>44</td>\n",
       "      <td>43</td>\n",
       "      <td>36</td>\n",
       "      <td>25</td>\n",
       "    </tr>\n",
       "    <tr>\n",
       "      <th>7</th>\n",
       "      <td>8</td>\n",
       "      <td>50</td>\n",
       "      <td>51</td>\n",
       "      <td>49</td>\n",
       "      <td>1</td>\n",
       "      <td>1</td>\n",
       "    </tr>\n",
       "    <tr>\n",
       "      <th>8</th>\n",
       "      <td>9</td>\n",
       "      <td>70</td>\n",
       "      <td>58</td>\n",
       "      <td>55</td>\n",
       "      <td>144</td>\n",
       "      <td>225</td>\n",
       "    </tr>\n",
       "    <tr>\n",
       "      <th>9</th>\n",
       "      <td>10</td>\n",
       "      <td>65</td>\n",
       "      <td>65</td>\n",
       "      <td>61</td>\n",
       "      <td>0</td>\n",
       "      <td>16</td>\n",
       "    </tr>\n",
       "  </tbody>\n",
       "</table>\n",
       "</div>"
      ],
      "text/plain": [
       "   Nota  Minutos de estudio por dia  pred fx  pred gx  costo fx  costo gx\n",
       "0     1                          10        2        7        64         9\n",
       "1     2                          15        9       13        36         4\n",
       "2     3                          15       16       19         1        16\n",
       "3     4                          12       23       25       121       169\n",
       "4     5                          20       30       31       100       121\n",
       "5     6                          27       37       37       100       100\n",
       "6     7                          38       44       43        36        25\n",
       "7     8                          50       51       49         1         1\n",
       "8     9                          70       58       55       144       225\n",
       "9    10                          65       65       61         0        16"
      ]
     },
     "execution_count": 3,
     "metadata": {},
     "output_type": "execute_result"
    }
   ],
   "source": [
    "#Costo toma los valores del modelo M y B; y los valores de entrenamiento y target X e Y\n",
    "#Con eso, se aplica la funcion de costo C = (y^ - y)**2\n",
    "#Donde y^ es (M*X + b)\n",
    "def costo(m,b,x,y):\n",
    "    return ((m*x+b) - y)**2\n",
    "\n",
    "#Aplico el modelo entrenado de Fx para obtener el valor predicho\n",
    "data[\"pred fx\"] = data[\"Nota\"].apply(lambda x: 7*x-5)\n",
    "\n",
    "#Aplico el modelo entrenado de Gx para obtener el valor predicho\n",
    "data[\"pred gx\"] = data[\"Nota\"].apply(lambda x: 6*x+1)\n",
    "\n",
    "#Se aplica la funcion de costo para Fx\n",
    "data[\"costo fx\"]=data.apply(lambda row: costo(7,-5,row[\"Nota\"],row[\"Minutos de estudio por dia\"]), axis=1)\n",
    "#Se aplica la funcion de costo para Gx\n",
    "data[\"costo gx\"]=data.apply(lambda row: costo(6,1,row[\"Nota\"],row[\"Minutos de estudio por dia\"]), axis=1)\n",
    "data"
   ]
  },
  {
   "cell_type": "code",
   "execution_count": 4,
   "metadata": {},
   "outputs": [
    {
     "data": {
      "text/plain": [
       "(np.int64(603), np.int64(686))"
      ]
     },
     "execution_count": 4,
     "metadata": {},
     "output_type": "execute_result"
    }
   ],
   "source": [
    "#Una vez que se tienen ambas series de costos, como ambas tienen la misma cantidad de registros, se puede ver cuál es mejor en SSE\n",
    "sse_fx = data[\"costo fx\"].sum()\n",
    "sse_gx = data[\"costo gx\"].sum()\n",
    "sse_fx,sse_gx\n",
    "\n",
    "#Fx es mejor porque la suma del error es menor"
   ]
  },
  {
   "cell_type": "code",
   "execution_count": 8,
   "metadata": {},
   "outputs": [
    {
     "data": {
      "text/plain": [
       "(8.681877677092668, 9.260129588726068)"
      ]
     },
     "execution_count": 8,
     "metadata": {},
     "output_type": "execute_result"
    }
   ],
   "source": [
    "#Haciendolo estandar\n",
    "from math import sqrt\n",
    "sse_fx_std = sqrt(sse_fx / (data[\"costo fx\"].size -2 ))\n",
    "sse_gx_std = sqrt(sse_gx / (data[\"costo gx\"].size -2 ))\n",
    "sse_fx_std,sse_gx_std"
   ]
  },
  {
   "cell_type": "code",
   "execution_count": 6,
   "metadata": {},
   "outputs": [
    {
     "data": {
      "text/plain": [
       "(np.float64(60.3), np.float64(68.6))"
      ]
     },
     "execution_count": 6,
     "metadata": {},
     "output_type": "execute_result"
    }
   ],
   "source": [
    "#La relación se debe mantener si tenemos el error promedio\n",
    "mse_fx = data[\"costo fx\"].mean()\n",
    "mse_gx = data[\"costo gx\"].mean()\n",
    "mse_fx,mse_gx"
   ]
  },
  {
   "cell_type": "code",
   "execution_count": 9,
   "metadata": {},
   "outputs": [
    {
     "data": {
      "text/plain": [
       "(2.745450782658469, 2.9283100928692645)"
      ]
     },
     "execution_count": 9,
     "metadata": {},
     "output_type": "execute_result"
    }
   ],
   "source": [
    "#Haciendolo estandar\n",
    "mse_fx_std = sqrt(data[\"costo fx\"].mean() / (data[\"costo fx\"].size -2 ))\n",
    "mse_gx_std = sqrt(data[\"costo gx\"].mean() / (data[\"costo gx\"].size -2 ))\n",
    "mse_fx_std,mse_gx_std"
   ]
  }
 ],
 "metadata": {
  "kernelspec": {
   "display_name": "mate3",
   "language": "python",
   "name": "python3"
  },
  "language_info": {
   "codemirror_mode": {
    "name": "ipython",
    "version": 3
   },
   "file_extension": ".py",
   "mimetype": "text/x-python",
   "name": "python",
   "nbconvert_exporter": "python",
   "pygments_lexer": "ipython3",
   "version": "3.13.2"
  }
 },
 "nbformat": 4,
 "nbformat_minor": 2
}
