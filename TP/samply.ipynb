{
 "cells": [
  {
   "cell_type": "code",
   "execution_count": null,
   "metadata": {},
   "outputs": [],
   "source": [
    "import pandas as pd\n",
    "\n",
    "defunctions_data = pd.read_csv(\"./arg_def_m_15_22.csv\")\n",
    "defunctions_data[\"cod_causa_muerte_CIE10\"] = defunctions_data[\"cod_causa_muerte_CIE10\"].apply(str.upper) \n",
    "cie_codes_ar = pd.read_csv(\"./Tabla SALUD - ID_CIE10.csv\")\n",
    "cie_codes_ar[\"ID_patologia\"] = cie_codes_ar[\"ID_patologia\"].apply(str.upper)\n",
    "cie_codes_es= pd.read_excel(\"./cie10_2008_ref.xls\", sheet_name=\"2008\")\n",
    "cie_codes_es[\"codigo\"] = cie_codes_es[\"codigo\"].apply(str.upper) \n",
    "\n",
    "defunctions_data.head()\n"
   ]
  },
  {
   "cell_type": "code",
   "execution_count": null,
   "metadata": {},
   "outputs": [],
   "source": [
    "import numpy as np\n",
    "codes_full = pd.merge(cie_codes_ar,cie_codes_es, left_on=\"ID_patologia\", how=\"outer\",right_on=\"codigo\")\n",
    "codes_full=codes_full.fillna(\"000\")\n",
    "codes_full[\"codigo_unificado\"] = codes_full[[\"ID_patologia\",\"codigo\"]].apply(lambda row: row[\"ID_patologia\"] if row[\"ID_patologia\"] != \"000\" else row[\"codigo\"], axis=1)\n",
    "codes_full[\"descripcion\"] = codes_full[[\"Descripción\",\"descriptor\"]].apply(lambda row: row[\"Descripción\"] if row[\"Descripción\"] != \"000\" else row[\"descriptor\"], axis=1)\n",
    "codes_full"
   ]
  },
  {
   "cell_type": "code",
   "execution_count": null,
   "metadata": {},
   "outputs": [],
   "source": [
    "defunctions_data = pd.merge(defunctions_data,codes_full,how=\"left\", left_on=\"cod_causa_muerte_CIE10\", right_on=\"codigo\")\n",
    "defunctions_data\n"
   ]
  },
  {
   "cell_type": "code",
   "execution_count": null,
   "metadata": {},
   "outputs": [],
   "source": [
    "print(len(defunctions_data[defunctions_data[\"descripcion\"].isna()]))\n",
    "len(defunctions_data)"
   ]
  },
  {
   "cell_type": "code",
   "execution_count": null,
   "metadata": {},
   "outputs": [],
   "source": [
    "\n",
    "tabla = defunctions_data[['jurisdiccion', 'mes_anio_defuncion', 'sexo_id','sexo_nombre', 'grupo_etario','codigo_unificado',\n",
    "       'descripcion']]"
   ]
  },
  {
   "cell_type": "code",
   "execution_count": null,
   "metadata": {},
   "outputs": [],
   "source": [
    "mask = tabla[\"descripcion\"].value_counts() > np.median(tabla[\"descripcion\"].value_counts().values)\n",
    "mask = tabla[\"descripcion\"].value_counts() > 15000\n",
    "tabla[\"descripcion\"].value_counts().describe()\n",
    "tabla[\"descripcion\"].value_counts()[mask]\n"
   ]
  }
 ],
 "metadata": {
  "kernelspec": {
   "display_name": "mate3",
   "language": "python",
   "name": "python3"
  },
  "language_info": {
   "codemirror_mode": {
    "name": "ipython",
    "version": 3
   },
   "file_extension": ".py",
   "mimetype": "text/x-python",
   "name": "python",
   "nbconvert_exporter": "python",
   "pygments_lexer": "ipython3",
   "version": "3.13.2"
  }
 },
 "nbformat": 4,
 "nbformat_minor": 2
}
